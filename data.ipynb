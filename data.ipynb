{
 "cells": [
  {
   "cell_type": "code",
   "execution_count": 3,
   "id": "fbcc73ee",
   "metadata": {},
   "outputs": [],
   "source": [
    "import download_subreddits \n",
    "\n",
    "directory = \"new_data/\""
   ]
  },
  {
   "cell_type": "code",
   "execution_count": 4,
   "id": "990b5631",
   "metadata": {},
   "outputs": [],
   "source": [
    "start_date = '20201204'\n",
    "end_date = '20211204'\n",
    "is_comments = False"
   ]
  },
  {
   "cell_type": "code",
   "execution_count": 5,
   "id": "0944d744",
   "metadata": {
    "scrolled": true
   },
   "outputs": [],
   "source": [
    "sub = 'FeMRADebates'\n",
    "\n",
    "\n",
    "\n",
    "download_subreddits.crawl_subreddit(sub, directory, start_date, end_date, comments = is_comments)"
   ]
  },
  {
   "cell_type": "code",
   "execution_count": 6,
   "id": "7348d5ec",
   "metadata": {},
   "outputs": [
    {
     "name": "stderr",
     "output_type": "stream",
     "text": [
      "C:\\Softwares\\Anaconda3\\envs\\py38\\lib\\site-packages\\psaw\\PushshiftAPI.py:192: UserWarning: Got non 200 code 429\n",
      "  warnings.warn(\"Got non 200 code %s\" % response.status_code)\n",
      "C:\\Softwares\\Anaconda3\\envs\\py38\\lib\\site-packages\\psaw\\PushshiftAPI.py:180: UserWarning: Unable to connect to pushshift.io. Retrying after backoff.\n",
      "  warnings.warn(\"Unable to connect to pushshift.io. Retrying after backoff.\")\n"
     ]
    }
   ],
   "source": [
    "sub = 'Feminism'\n",
    "\n",
    "\n",
    "\n",
    "download_subreddits.crawl_subreddit(sub, directory, start_date, end_date, comments = is_comments)\n"
   ]
  },
  {
   "cell_type": "code",
   "execution_count": 7,
   "id": "6ea3fe4f",
   "metadata": {},
   "outputs": [],
   "source": [
    "sub = 'NotHowGirlsWork'\n",
    "\n",
    "\n",
    "\n",
    "download_subreddits.crawl_subreddit(sub, directory, start_date, end_date, comments = is_comments)"
   ]
  },
  {
   "cell_type": "code",
   "execution_count": 8,
   "id": "5d2cd17b",
   "metadata": {},
   "outputs": [],
   "source": [
    "sub = 'AskFeminists'\n",
    "\n",
    "download_subreddits.crawl_subreddit(sub, directory, start_date, end_date, comments = is_comments)"
   ]
  },
  {
   "cell_type": "code",
   "execution_count": 9,
   "id": "627511dc",
   "metadata": {},
   "outputs": [],
   "source": [
    "sub = 'AllWomen'\n",
    "\n",
    "\n",
    "download_subreddits.crawl_subreddit(sub, directory, start_date, end_date, comments = is_comments)"
   ]
  },
  {
   "cell_type": "code",
   "execution_count": 10,
   "id": "6a9e626f",
   "metadata": {},
   "outputs": [],
   "source": [
    "sub = 'careerwomen'\n",
    "\n",
    "\n",
    "\n",
    "download_subreddits.crawl_subreddit(sub, directory, start_date, end_date, comments = is_comments)"
   ]
  },
  {
   "cell_type": "code",
   "execution_count": 11,
   "id": "34e47ca4",
   "metadata": {},
   "outputs": [],
   "source": [
    "sub = 'blackladies'\n",
    "\n",
    "\n",
    "\n",
    "download_subreddits.crawl_subreddit(sub, directory, start_date, end_date, comments = is_comments)"
   ]
  },
  {
   "cell_type": "code",
   "execution_count": 12,
   "id": "a002f8da",
   "metadata": {},
   "outputs": [],
   "source": [
    "sub = 'asiantwoX'\n",
    "\n",
    "\n",
    "\n",
    "download_subreddits.crawl_subreddit(sub, directory, start_date, end_date, comments = is_comments)"
   ]
  },
  {
   "cell_type": "code",
   "execution_count": 13,
   "id": "63bf5729",
   "metadata": {},
   "outputs": [],
   "source": [
    "sub = 'transgender'\n",
    "\n",
    "\n",
    "download_subreddits.crawl_subreddit(sub, directory, start_date, end_date, comments = is_comments)"
   ]
  },
  {
   "cell_type": "code",
   "execution_count": 14,
   "id": "a3698aea",
   "metadata": {},
   "outputs": [],
   "source": [
    "sub = 'SexPositive'\n",
    "\n",
    "\n",
    "\n",
    "download_subreddits.crawl_subreddit(sub, directory, start_date, end_date, comments = is_comments)"
   ]
  },
  {
   "cell_type": "code",
   "execution_count": null,
   "id": "cabb924b",
   "metadata": {},
   "outputs": [],
   "source": []
  }
 ],
 "metadata": {
  "kernelspec": {
   "display_name": "Python 3 (ipykernel)",
   "language": "python",
   "name": "python3"
  },
  "language_info": {
   "codemirror_mode": {
    "name": "ipython",
    "version": 3
   },
   "file_extension": ".py",
   "mimetype": "text/x-python",
   "name": "python",
   "nbconvert_exporter": "python",
   "pygments_lexer": "ipython3",
   "version": "3.8.11"
  }
 },
 "nbformat": 4,
 "nbformat_minor": 5
}
